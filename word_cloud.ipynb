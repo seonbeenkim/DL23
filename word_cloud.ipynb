{
  "nbformat": 4,
  "nbformat_minor": 0,
  "metadata": {
    "colab": {
      "provenance": [],
      "authorship_tag": "ABX9TyMLRUpNBQPGOSUqdBKOnfCb",
      "include_colab_link": true
    },
    "kernelspec": {
      "name": "python3",
      "display_name": "Python 3"
    },
    "language_info": {
      "name": "python"
    }
  },
  "cells": [
    {
      "cell_type": "markdown",
      "metadata": {
        "id": "view-in-github",
        "colab_type": "text"
      },
      "source": [
        "<a href=\"https://colab.research.google.com/github/seonbeenkim/DL23/blob/main/word_cloud.ipynb\" target=\"_parent\"><img src=\"https://colab.research.google.com/assets/colab-badge.svg\" alt=\"Open In Colab\"/></a>"
      ]
    },
    {
      "cell_type": "code",
      "execution_count": null,
      "metadata": {
        "id": "mTa6P_caqVYi"
      },
      "outputs": [],
      "source": [
        "#@markdown Wordcloud with your own text: Paste your text\n",
        "\n",
        "#Import libraries\n",
        "import matplotlib.pyplot as plt\n",
        "from wordcloud import WordCloud\n",
        "\n",
        "# Getting text from the user\n",
        "user_text = input(\"Please paste your text here: \")\n",
        "\n",
        "\n",
        "wordcloud = WordCloud(\n",
        "    background_color='white',\n",
        "    width=800,\n",
        "    height=800,\n",
        "    max_words=100\n",
        ").generate(user_text)\n",
        "\n",
        "plt.figure(figsize=(8, 8))\n",
        "plt.imshow(wordcloud, interpolation='bilinear')\n",
        "plt.axis('off')\n",
        "plt.show()"
      ]
    },
    {
      "cell_type": "markdown",
      "source": [
        "워드클라우드 만들기 - text 복사하여 붙이기. png만들기 가능"
      ],
      "metadata": {
        "id": "lepZxDmHtgVd"
      }
    },
    {
      "cell_type": "code",
      "source": [
        "import matplotlib.pyplot as plt\n",
        "from wordcloud import WordCloud\n",
        "\n",
        "# Getting text from the user\n",
        "user_text = input(\"Please paste your text here: \")\n",
        "\n",
        "# Generating word cloud\n",
        "wordcloud = WordCloud(\n",
        "    background_color='white',\n",
        "    width=800,\n",
        "    height=800,\n",
        "    max_words=100\n",
        ").generate(user_text)\n",
        "\n",
        "# Displaying and saving the word cloud\n",
        "plt.figure(figsize=(8, 8))\n",
        "plt.imshow(wordcloud, interpolation='bilinear')\n",
        "plt.axis('off')\n",
        "\n",
        "# Saving the word cloud as an image file\n",
        "wordcloud_image_file = \"wordcloud.png\"  # File path and name\n",
        "plt.savefig(wordcloud_image_file)\n",
        "\n",
        "# Closing the plot\n",
        "plt.close()\n",
        "\n",
        "print(\"Word cloud saved as\", wordcloud_image_file)"
      ],
      "metadata": {
        "colab": {
          "base_uri": "https://localhost:8080/"
        },
        "id": "KqmJ3Wnhtue9",
        "outputId": "831a96e0-944a-41c6-ace6-44f1bd5b441a"
      },
      "execution_count": 2,
      "outputs": [
        {
          "output_type": "stream",
          "name": "stdout",
          "text": [
            "Please paste your text here: Long ago, the mice had a general council to consider what measures they could take to outwit their common enemy, the Cat. Some said this, and some said that; but at last a young mouse got up and said he had a proposal to make, which he thought would meet the case. ‘You will all agree,’ said he, ‘that our chief danger consists in the sly and treacherous manner in which the enemy approaches us. Now, if we could receive some signal of her approach, we could easily escape from her. I venture, therefore, to propose that a small bell be procured, and attached by a ribbon round the neck of the Cat. By this means we should always know when she was about, and could easily retire while she was in the neighbourhood.’ This proposal met with general applause, until an old mouse got up and said: ‘That is all very well, but who is to bell the Cat?’ The mice looked at one another and nobody spoke. Then the old mouse said: ‘It is easy to propose impossible remedies.\n",
            "Word cloud saved as wordcloud.png\n"
          ]
        }
      ]
    },
    {
      "cell_type": "markdown",
      "source": [
        "이미지 저장 코드 - text복사 붙여넣기 후 폴더"
      ],
      "metadata": {
        "id": "ZNLK3eo_tzNV"
      }
    },
    {
      "cell_type": "code",
      "source": [
        "#@markdown"
      ],
      "metadata": {
        "id": "DnWfJEjZuGRV"
      },
      "execution_count": null,
      "outputs": []
    },
    {
      "cell_type": "markdown",
      "source": [
        "코드가리"
      ],
      "metadata": {
        "id": "Xd7Kns9MuYEt"
      }
    }
  ]
}